{
 "cells": [
  {
   "cell_type": "code",
   "execution_count": 1,
   "id": "b606d98e-a431-4c0e-ac40-19921c69b4b9",
   "metadata": {},
   "outputs": [
    {
     "name": "stderr",
     "output_type": "stream",
     "text": [
      "/home/handsomedong/anaconda3/envs/dlra/lib/python3.8/site-packages/tqdm/auto.py:22: TqdmWarning: IProgress not found. Please update jupyter and ipywidgets. See https://ipywidgets.readthedocs.io/en/stable/user_install.html\n",
      "  from .autonotebook import tqdm as notebook_tqdm\n"
     ]
    }
   ],
   "source": [
    "%config Completer.use_jedi = False\n",
    "### reload magic\n",
    "%reload_ext autoreload\n",
    "%autoreload 2\n",
    "import numpy as np\n",
    "import os\n",
    "from utility import load_data\n",
    "import pickle\n",
    "from new_fig import cal_interval_rmse, special_bar"
   ]
  },
  {
   "cell_type": "code",
   "execution_count": 2,
   "id": "8ea20bd8-39fd-438c-9c83-fbb1ffed81ab",
   "metadata": {},
   "outputs": [
    {
     "data": {
      "text/plain": [
       "['/wk171/handsomedong/after_Meeting/evaluation/repro_data/BalGRUAdvPONIAtten_addponi_mt20_dt19_v15.pkl',\n",
       " '/wk171/handsomedong/after_Meeting/evaluation/repro_data/BalGRUAdvPONIAtten_addponi_mt20_dt19_v16.pkl',\n",
       " '/wk171/handsomedong/after_Meeting/evaluation/repro_data/BalGRUAdvPONIAtten_addponi_mt20_dt19_v17.pkl',\n",
       " '/wk171/handsomedong/after_Meeting/evaluation/repro_data/BalGRUAdvPONIAtten_addponi_mt20_dt19_v18.pkl',\n",
       " '/wk171/handsomedong/after_Meeting/evaluation/repro_data/BalGRUAdvPONIAtten_addponi_mt20_dt19_v19.pkl']"
      ]
     },
     "execution_count": 2,
     "metadata": {},
     "output_type": "execute_result"
    }
   ],
   "source": [
    "# load data\n",
    "path = os.path.join(os.getcwd(), \"repro_data\")\n",
    "fileList =[os.path.join(os.getcwd(), \"repro_data\", i) for i in sorted(os.listdir(path))]\n",
    "# model decision\n",
    "fileList = [x for x in fileList if 'mt20_dt19' in x][0:5]\n",
    "fileList"
   ]
  },
  {
   "cell_type": "code",
   "execution_count": 3,
   "id": "71820395-97e1-4c3a-8bd5-d5b48c411aaf",
   "metadata": {},
   "outputs": [
    {
     "name": "stdout",
     "output_type": "stream",
     "text": [
      "/wk171/handsomedong/after_Meeting/evaluation/repro_data/BalGRUAdvPONIAtten_addponi_mt20_dt19_v15.pkl has been loaded.\n",
      "/wk171/handsomedong/after_Meeting/evaluation/repro_data/BalGRUAdvPONIAtten_addponi_mt20_dt19_v16.pkl has been loaded.\n",
      "/wk171/handsomedong/after_Meeting/evaluation/repro_data/BalGRUAdvPONIAtten_addponi_mt20_dt19_v17.pkl has been loaded.\n",
      "/wk171/handsomedong/after_Meeting/evaluation/repro_data/BalGRUAdvPONIAtten_addponi_mt20_dt19_v18.pkl has been loaded.\n",
      "/wk171/handsomedong/after_Meeting/evaluation/repro_data/BalGRUAdvPONIAtten_addponi_mt20_dt19_v19.pkl has been loaded.\n",
      "(13087, 5, 3, 120, 120)\n"
     ]
    }
   ],
   "source": [
    "data_loader = load_data(*fileList, file_num = len(fileList))\n",
    "all_data, target, datetime, = data_loader._return\n",
    "all_data = np.concatenate(all_data, axis=1) # [B, N_exps, tar_t, H, W]\n",
    "print(all_data.shape)"
   ]
  },
  {
   "cell_type": "markdown",
   "id": "32758522-b719-4455-890b-0a524820c52f",
   "metadata": {},
   "source": [
    "### show STD"
   ]
  },
  {
   "cell_type": "code",
   "execution_count": null,
   "id": "e6008649-97f8-41a3-9e1c-49eed0814b3e",
   "metadata": {},
   "outputs": [],
   "source": [
    "# manually collect different models\n",
    "tar_t = 0\n",
    "rmse_one = []\n",
    "# rmse_all = []\n",
    "threshold = [1, 3, 5, 10, 15, 20, 30, 40]\n",
    "for i in range(all_data.shape[1]):\n",
    "    rmse_one.append(cal_interval_rmse(all_data[:, i, tar_t], target[:, tar_t], threshold))\n",
    "rmse_all.append(np.stack(rmse_one, axis=0)) # [N_models][N_exps, N_thsh]"
   ]
  },
  {
   "cell_type": "code",
   "execution_count": null,
   "id": "a2a33778-ffea-4064-92ef-ac034c21f9f2",
   "metadata": {
    "scrolled": true,
    "tags": []
   },
   "outputs": [],
   "source": [
    "special_bar(rmse_all).plot(['1~3', '3~5', '5~10', '10~15', '15~20', '20~30', '30~40', '>=40'], \n",
    "                           ['CPN', 'CAPN', 'PONI', 'PONI_Atten'])"
   ]
  },
  {
   "cell_type": "markdown",
   "id": "d55baee2-f4ce-40c0-9aac-493c523fb2ae",
   "metadata": {
    "tags": []
   },
   "source": [
    "### save average"
   ]
  },
  {
   "cell_type": "code",
   "execution_count": 4,
   "id": "e795165d-94e5-4e37-8759-98f6c6fd2f54",
   "metadata": {},
   "outputs": [],
   "source": [
    "with open(fileList[0].split('_v')[0]+\"_avg.pkl\", 'wb') as handle:\n",
    "    pickle.dump([datetime, all_data.mean(axis=1), target], handle, protocol=pickle.HIGHEST_PROTOCOL)"
   ]
  }
 ],
 "metadata": {
  "kernelspec": {
   "display_name": "dlra ipykernel",
   "language": "python",
   "name": "python3"
  },
  "language_info": {
   "codemirror_mode": {
    "name": "ipython",
    "version": 3
   },
   "file_extension": ".py",
   "mimetype": "text/x-python",
   "name": "python",
   "nbconvert_exporter": "python",
   "pygments_lexer": "ipython3",
   "version": "3.8.12"
  }
 },
 "nbformat": 4,
 "nbformat_minor": 5
}
