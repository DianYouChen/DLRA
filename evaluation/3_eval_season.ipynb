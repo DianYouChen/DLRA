{
 "cells": [
  {
   "cell_type": "code",
   "execution_count": null,
   "id": "93c090d9",
   "metadata": {},
   "outputs": [],
   "source": [
    "import numpy as np\n",
    "from tqdm import tqdm\n",
    "import os\n",
    "\n",
    "from utility import (load_data, error_divided_by_season, count, divide_dayperiod, cal_mape)\n",
    "from plottingFunction import boxPlot\n",
    "from new_scatter import scatterPlot"
   ]
  },
  {
   "cell_type": "code",
   "execution_count": null,
   "id": "d87f46f5",
   "metadata": {},
   "outputs": [],
   "source": [
    "path = os.path.join(os.getcwd(), \"repro_data\")\n",
    "fileList = [os.path.join(os.getcwd(), \"repro_data\", i) for i in sorted(os.listdir(path)) if \"avg\" in i]\n",
    "# model decision\n",
    "names = ['PONI', 'PONI+season']\n",
    "# fileList = [fileList[3], fileList[0]]\n",
    "fileList"
   ]
  },
  {
   "cell_type": "code",
   "execution_count": null,
   "id": "55ded175",
   "metadata": {},
   "outputs": [],
   "source": [
    "data_loader = load_data(*fileList, file_num = len(fileList))\n",
    "all_data, target, datetime, = data_loader._return\n",
    "print(all_data[0].shape)"
   ]
  },
  {
   "cell_type": "markdown",
   "id": "54841b82",
   "metadata": {},
   "source": [
    "### Seasonal evaluation (details)"
   ]
  },
  {
   "cell_type": "code",
   "execution_count": null,
   "id": "95d04c71",
   "metadata": {},
   "outputs": [],
   "source": [
    "tar_t = 0 # 0 or 1 or 2\n",
    "# data_for_season = [x[:, 0, tar_t] for x in [all_data[0], all_data[1]]] # PONI, PONI+time\n",
    "# target_for_season = target[:,tar_t] # [B, H, W]\n",
    "# season_object = error_divided_by_season(data_for_season, target_for_season, datetime, [0,5,10,20,30,40,60,80])\n",
    "''''''\n",
    "data_for_season = [x[:, 0].sum(axis=1) for x in [all_data[0], all_data[1]]] # PONI, PONI+time\n",
    "target_for_season = target.sum(axis=1) # [B, H, W]\n",
    "season_object = error_divided_by_season(data_for_season, target_for_season, datetime, [0,10,30,50,70,100,150,200])\n",
    "''''''\n",
    "# [0=D/1=T], if D:[N_models][0=S/1=W][B, H, W]; if T:[0=S/1=W][B, H, W]\n",
    "data_target_season = season_object.divide_into_seasons()\n",
    "# [0=S/1=W]\n",
    "time_season = season_object.time_divide()"
   ]
  },
  {
   "cell_type": "code",
   "execution_count": null,
   "id": "6b45ddad",
   "metadata": {},
   "outputs": [],
   "source": [
    "# fasion scatter heat map\n",
    "scatterPlot(data_target_season[0][1][0], data_target_season[1][0], 0.5, limit=(0,400)).plot()"
   ]
  },
  {
   "cell_type": "markdown",
   "id": "721a4125",
   "metadata": {},
   "source": [
    "## fill between\n",
    "- 先將資料切分成夏、冬，再配合time_season製作白天、晚上的分割\n",
    "- 並討論晝夜的樣本分配"
   ]
  },
  {
   "cell_type": "code",
   "execution_count": null,
   "id": "01303f94",
   "metadata": {},
   "outputs": [],
   "source": [
    "summer_PONI = divide_dayperiod(data_target_season[0][0][1], time_season[1]).execute()\n",
    "summer_POTI = divide_dayperiod(data_target_season[0][1][1], time_season[1]).execute()\n",
    "l = [0,1,3,5,8,10,15,20,25,30,35,40,45,50]\n",
    "count_1 = [count(summer_PONI[0], l), count(summer_POTI[0], l)]\n",
    "count_2 = [count(summer_PONI[1], l), count(summer_POTI[1], l)]"
   ]
  },
  {
   "cell_type": "code",
   "execution_count": null,
   "id": "af01208f",
   "metadata": {},
   "outputs": [],
   "source": [
    "count_2[1] - count_2[0]"
   ]
  },
  {
   "cell_type": "markdown",
   "id": "e4498c3c",
   "metadata": {},
   "source": [
    "## Cal MAPE "
   ]
  },
  {
   "cell_type": "code",
   "execution_count": null,
   "id": "3a31ab16",
   "metadata": {},
   "outputs": [],
   "source": [
    "# summer = 0; winter = 1\n",
    "season_code = 1\n",
    "n_model = 0\n",
    "thsh = 100 # 大雨： >40mm/h 豪雨： >100mm/3h\n",
    "interest_data = data_target_season[0][n_model][season_code]\n",
    "interest_targ = data_target_season[1][season_code]\n",
    "\n",
    "cal_mape(interest_data, interest_targ, thsh, is_larger=True, is_less=False)"
   ]
  }
 ],
 "metadata": {
  "kernelspec": {
   "display_name": "dlra ipykernel",
   "language": "python",
   "name": "python3"
  },
  "language_info": {
   "codemirror_mode": {
    "name": "ipython",
    "version": 3
   },
   "file_extension": ".py",
   "mimetype": "text/x-python",
   "name": "python",
   "nbconvert_exporter": "python",
   "pygments_lexer": "ipython3",
   "version": "3.8.12"
  }
 },
 "nbformat": 4,
 "nbformat_minor": 5
}
