{
 "cells": [
  {
   "cell_type": "markdown",
   "id": "5d1b40ce",
   "metadata": {},
   "source": [
    "## compress rain data in DLRA/rainfall_data"
   ]
  },
  {
   "cell_type": "code",
   "execution_count": 1,
   "id": "6966cbd1",
   "metadata": {},
   "outputs": [
    {
     "name": "stdout",
     "output_type": "stream",
     "text": [
      "/bk2/vancechen/QPESUMS/raw/rain/2021/202111\n",
      "/bk2/vancechen/QPESUMS/raw/rain/2021/202112\n",
      "/bk2/vancechen/QPESUMS/raw/rain/2022/202201\n",
      "/bk2/vancechen/QPESUMS/raw/rain/2022/202202\n",
      "/bk2/vancechen/QPESUMS/raw/rain/2022/202203\n",
      "/bk2/vancechen/QPESUMS/raw/rain/2022/202204\n",
      "/bk2/vancechen/QPESUMS/raw/rain/2022/202205\n",
      "/bk2/vancechen/QPESUMS/raw/rain/2022/202206\n",
      "/bk2/vancechen/QPESUMS/raw/rain/2022/202207\n",
      "/bk2/vancechen/QPESUMS/raw/rain/2022/202208\n",
      "/bk2/vancechen/QPESUMS/raw/rain/2022/202209\n"
     ]
    }
   ],
   "source": [
    "import os\n",
    "\n",
    "def main(input_path:str, output_path:str):\n",
    "    years = os.listdir(input_path)\n",
    "    years.sort()\n",
    "    for year in years:\n",
    "        year_months = os.listdir(os.path.join(input_path,year))\n",
    "        year_months.sort()\n",
    "        for year_month in year_months:\n",
    "            tmp_path = os.path.join(input_path,year,year_month)\n",
    "            print(tmp_path)\n",
    "            os.system(f\"python core/compressed_rain_data.py {tmp_path} {output_path}\")\n",
    "\n",
    "\n",
    "rain_path = '/bk2/vancechen/QPESUMS/raw/rain'\n",
    "rain_dest = '/bk2/vancechen/QPESUMS/raw/rain_compressed'\n",
    "main(rain_path, rain_dest)"
   ]
  },
  {
   "cell_type": "markdown",
   "id": "fe84508d",
   "metadata": {},
   "source": [
    "## check missing time stamp"
   ]
  },
  {
   "cell_type": "code",
   "execution_count": null,
   "id": "590d8242",
   "metadata": {},
   "outputs": [],
   "source": [
    "#%% skip time list for 2021/06\n",
    "from datetime import datetime\n",
    "from datetime import timedelta\n",
    "filePath = '/wk171/handsomedong/DLRA_3dradar/raw_data/radar_compressed/2017/201704/'\n",
    "y_m_d = os.listdir(filePath)\n",
    "y_m_d.sort()\n",
    "\n",
    "restore_time_rain = []\n",
    "for day in y_m_d:\n",
    "    d_h_m_file = os.listdir(os.path.join(filePath, day))\n",
    "    d_h_m_file.sort()\n",
    "    for file_r in d_h_m_file:\n",
    "        #radar\n",
    "        file = file_r.split('.')[1:3]\n",
    "        file = '-'.join(file)\n",
    "        #rain\n",
    "        #file=file_r\n",
    "        year = int(file[:4])\n",
    "        month = int(file[4:6])\n",
    "        day = int(file[6:8])\n",
    "        hour = int(file[9:11])\n",
    "        minute = int(file[11:13])\n",
    "        d_h_m = datetime(year, month, day, hour, minute)\n",
    "        restore_time_rain.append(d_h_m)\n",
    "    del d_h_m\n",
    "\n",
    "# ideal day hour minutes\n",
    "ideal_t = []\n",
    "cur_dt = datetime(2017,4,1,0,0)\n",
    "for i in range(4320): #30*24*6=4320\n",
    "    ideal_t.append(cur_dt)\n",
    "    cur_dt += timedelta(minutes=10 * 1)\n",
    "    \n",
    "# find loss time\n",
    "loss_t_rain = []\n",
    "for i in ideal_t:\n",
    "    if i not in restore_time_rain:\n",
    "        loss_t_rain.append(i)\n",
    "        \n",
    "print(loss_t_rain)"
   ]
  },
  {
   "cell_type": "markdown",
   "id": "6c2ab355",
   "metadata": {},
   "source": [
    "## Check values in AllDataDict.pkl"
   ]
  },
  {
   "cell_type": "code",
   "execution_count": null,
   "id": "69f324dc",
   "metadata": {},
   "outputs": [],
   "source": [
    "import pickle\n",
    "from datetime import datetime\n",
    "# with open('/wk171/handsomedong/DLRA_paper/PKL_saver/AllDataDict_20180101-0000_20180131-2350.pkl','rb') as f:\n",
    "#     a = pickle.load(f)\n",
    "# key = datetime(2018,1,4)\n",
    "# a['radar'][key][2].max()\n",
    "\n",
    "with open('/wk171/handsomedong/DLRA_3dradar/PKL_3d_saver/AllDataDict_20150501-0000_20150531-2350.pkl','rb') as f:\n",
    "    a = pickle.load(f)\n",
    "key = datetime(2015,5,16)\n",
    "list(a['radar'].keys())"
   ]
  }
 ],
 "metadata": {
  "kernelspec": {
   "display_name": "Python 3.6.9 64-bit",
   "language": "python",
   "name": "python3"
  },
  "language_info": {
   "codemirror_mode": {
    "name": "ipython",
    "version": 3
   },
   "file_extension": ".py",
   "mimetype": "text/x-python",
   "name": "python",
   "nbconvert_exporter": "python",
   "pygments_lexer": "ipython3",
   "version": "3.6.9"
  },
  "vscode": {
   "interpreter": {
    "hash": "31f2aee4e71d21fbe5cf8b01ff0e069b9275f58929596ceb00d14d90e3e16cd6"
   }
  }
 },
 "nbformat": 4,
 "nbformat_minor": 5
}
